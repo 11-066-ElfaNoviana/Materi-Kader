{
  "nbformat": 4,
  "nbformat_minor": 0,
  "metadata": {
    "colab": {
      "provenance": [],
      "authorship_tag": "ABX9TyM3adRhxhWP0ACxrvWyGltH",
      "include_colab_link": true
    },
    "kernelspec": {
      "name": "python3",
      "display_name": "Python 3"
    },
    "language_info": {
      "name": "python"
    }
  },
  "cells": [
    {
      "cell_type": "markdown",
      "metadata": {
        "id": "view-in-github",
        "colab_type": "text"
      },
      "source": [
        "<a href=\"https://colab.research.google.com/github/11-066-ElfaNoviana/Materi-Kader/blob/main/Tugas1PBO.ipynb\" target=\"_parent\"><img src=\"https://colab.research.google.com/assets/colab-badge.svg\" alt=\"Open In Colab\"/></a>"
      ]
    },
    {
      "cell_type": "code",
      "execution_count": 1,
      "metadata": {
        "colab": {
          "base_uri": "https://localhost:8080/"
        },
        "id": "4TgGNSdQkLNq",
        "outputId": "596a5d55-bfef-44d7-a042-fe7801e6facf"
      },
      "outputs": [
        {
          "output_type": "stream",
          "name": "stdout",
          "text": [
            "Masukkan jumlah mahasiswa: 5\n",
            "Masukkan NIM: 066\n",
            "Masukkan Nama: elfa\n",
            "Masukkan IPK: 4.0\n",
            "Masukkan Alamat: kedamaian\n",
            "\n",
            "Masukkan NIM: 014\n",
            "Masukkan Nama: alliyah\n",
            "Masukkan IPK: 3.3\n",
            "Masukkan Alamat: kedaton\n",
            "\n",
            "Masukkan NIM: 064\n",
            "Masukkan Nama: mifta\n",
            "Masukkan IPK: 3.6\n",
            "Masukkan Alamat: waykandis\n",
            "\n",
            "Masukkan NIM: 069\n",
            "Masukkan Nama: zahwa\n",
            "Masukkan IPK: 3.2\n",
            "Masukkan Alamat: kedaton\n",
            "\n",
            "Masukkan NIM: 067\n",
            "Masukkan Nama: andini\n",
            "Masukkan IPK: 3.7\n",
            "Masukkan Alamat: langkapura\n",
            "\n",
            "\n",
            "Data Mahasiswa:\n",
            "NIM\tNama\tIPK\tAlamat\n",
            "066\telfa\t4.0\tkedamaian\n",
            "014\talliyah\t3.3\tkedaton\n",
            "064\tmifta\t3.6\twaykandis\n",
            "069\tzahwa\t3.2\tkedaton\n",
            "067\tandini\t3.7\tlangkapura\n",
            "\n",
            "Masukkan NIM yang ingin dicari: 123140066\n",
            "Mahasiswa tidak ditemukan.\n",
            "\n",
            "Mahasiswa dengan IPK tertinggi: {'NIM': '066', 'Nama': 'elfa', 'IPK': 4.0, 'Alamat': 'kedamaian'}\n",
            "Mahasiswa dengan IPK terendah: {'NIM': '069', 'Nama': 'zahwa', 'IPK': 3.2, 'Alamat': 'kedaton'}\n",
            "\n",
            "Data Mahasiswa berdasarkan IPK:\n",
            "\n",
            "Data Mahasiswa:\n",
            "NIM\tNama\tIPK\tAlamat\n",
            "069\tzahwa\t3.2\tkedaton\n",
            "014\talliyah\t3.3\tkedaton\n",
            "064\tmifta\t3.6\twaykandis\n",
            "067\tandini\t3.7\tlangkapura\n",
            "066\telfa\t4.0\tkedamaian\n",
            "\n",
            "Data Mahasiswa berdasarkan NIM:\n",
            "\n",
            "Data Mahasiswa:\n",
            "NIM\tNama\tIPK\tAlamat\n",
            "014\talliyah\t3.3\tkedaton\n",
            "064\tmifta\t3.6\twaykandis\n",
            "066\telfa\t4.0\tkedamaian\n",
            "067\tandini\t3.7\tlangkapura\n",
            "069\tzahwa\t3.2\tkedaton\n"
          ]
        }
      ],
      "source": [
        "def input_data():\n",
        "    N = int(input(\"Masukkan jumlah mahasiswa: \"))\n",
        "    mahasiswa = []\n",
        "    for i in range(N):\n",
        "        nim = input(\"Masukkan NIM: \")\n",
        "        nama = input(\"Masukkan Nama: \")\n",
        "        ipk = float(input(\"Masukkan IPK: \"))\n",
        "        alamat = input(\"Masukkan Alamat: \")\n",
        "        mahasiswa.append({\"NIM\": nim, \"Nama\": nama, \"IPK\": ipk, \"Alamat\": alamat})\n",
        "        print()\n",
        "    return mahasiswa\n",
        "\n",
        "def cari_mahasiswa(mahasiswa, nim):\n",
        "    for mhs in mahasiswa:\n",
        "        if mhs['NIM'] == nim:\n",
        "            return mhs\n",
        "    return None\n",
        "\n",
        "def ipk_tertinggi_terendah(mahasiswa):\n",
        "    tertinggi = max(mahasiswa, key=lambda x: x['IPK'])\n",
        "    terendah = min(mahasiswa, key=lambda x: x['IPK'])\n",
        "    return tertinggi, terendah\n",
        "\n",
        "def urutkan_mahasiswa(mahasiswa, berdasarkan=\"IPK\"):\n",
        "    return sorted(mahasiswa, key=lambda x: (x[berdasarkan], x['NIM']))\n",
        "\n",
        "def tampilkan_data(mahasiswa):\n",
        "    print(\"\\nData Mahasiswa:\")\n",
        "    print(\"NIM\\tNama\\tIPK\\tAlamat\")\n",
        "    for mhs in mahasiswa:\n",
        "        print(f\"{mhs['NIM']}\\t{mhs['Nama']}\\t{mhs['IPK']}\\t{mhs['Alamat']}\")\n",
        "\n",
        "mahasiswa = input_data()\n",
        "\n",
        "tampilkan_data(mahasiswa)\n",
        "\n",
        "nim_cari = input(\"\\nMasukkan NIM yang ingin dicari: \")\n",
        "hasil_cari = cari_mahasiswa(mahasiswa, nim_cari)\n",
        "if hasil_cari:\n",
        "    print(\"Mahasiswa ditemukan:\", hasil_cari)\n",
        "else:\n",
        "    print(\"Mahasiswa tidak ditemukan.\")\n",
        "\n",
        "tinggi, rendah = ipk_tertinggi_terendah(mahasiswa)\n",
        "print(\"\\nMahasiswa dengan IPK tertinggi:\", tinggi)\n",
        "print(\"Mahasiswa dengan IPK terendah:\", rendah)\n",
        "\n",
        "data_urut_ipk = urutkan_mahasiswa(mahasiswa, \"IPK\")\n",
        "print(\"\\nData Mahasiswa berdasarkan IPK:\")\n",
        "tampilkan_data(data_urut_ipk)\n",
        "\n",
        "data_urut_nim = urutkan_mahasiswa(mahasiswa, \"NIM\")\n",
        "print(\"\\nData Mahasiswa berdasarkan NIM:\")\n",
        "tampilkan_data(data_urut_nim)"
      ]
    }
  ]
}